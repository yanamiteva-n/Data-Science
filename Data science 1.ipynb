{
    "cells": [
        {
            "cell_type": "markdown",
            "metadata": {
                "id": "9de5bf33-1ab6-44b5-b7dc-07f635f1fc26"
            },
            "source": "# Description \nThis notebook analyzes and Visualizes Cost of living and income data"
        },
        {
            "cell_type": "code",
            "execution_count": 1,
            "metadata": {
                "id": "d8799bd9-357b-433f-abef-3edb58f929fe"
            },
            "outputs": [
                {
                    "data": {
                        "text/html": "<div>\n<style scoped>\n    .dataframe tbody tr th:only-of-type {\n        vertical-align: middle;\n    }\n\n    .dataframe tbody tr th {\n        vertical-align: top;\n    }\n\n    .dataframe thead th {\n        text-align: right;\n    }\n</style>\n<table border=\"1\" class=\"dataframe\">\n  <thead>\n    <tr style=\"text-align: right;\">\n      <th></th>\n      <th>Country</th>\n      <th>Year</th>\n      <th>Average_Monthly_Income</th>\n      <th>Cost_of_Living</th>\n      <th>Housing_Cost_Percentage</th>\n      <th>Tax_Rate</th>\n      <th>Savings_Percentage</th>\n      <th>Healthcare_Cost_Percentage</th>\n      <th>Education_Cost_Percentage</th>\n      <th>Transportation_Cost_Percentage</th>\n      <th>Region</th>\n    </tr>\n  </thead>\n  <tbody>\n    <tr>\n      <th>0</th>\n      <td>Australia</td>\n      <td>2013</td>\n      <td>3483.92</td>\n      <td>1106.07</td>\n      <td>32.09</td>\n      <td>27.50</td>\n      <td>1.74</td>\n      <td>18.23</td>\n      <td>6.94</td>\n      <td>17.19</td>\n      <td>Oceania</td>\n    </tr>\n    <tr>\n      <th>1</th>\n      <td>India</td>\n      <td>2019</td>\n      <td>7771.03</td>\n      <td>5422.78</td>\n      <td>25.21</td>\n      <td>29.30</td>\n      <td>3.35</td>\n      <td>17.21</td>\n      <td>12.42</td>\n      <td>9.90</td>\n      <td>Asia</td>\n    </tr>\n    <tr>\n      <th>2</th>\n      <td>Russia</td>\n      <td>2004</td>\n      <td>6991.30</td>\n      <td>3972.36</td>\n      <td>40.85</td>\n      <td>22.94</td>\n      <td>15.48</td>\n      <td>15.28</td>\n      <td>7.10</td>\n      <td>9.59</td>\n      <td>Europe</td>\n    </tr>\n    <tr>\n      <th>3</th>\n      <td>South Africa</td>\n      <td>2011</td>\n      <td>6628.04</td>\n      <td>6755.75</td>\n      <td>30.38</td>\n      <td>15.69</td>\n      <td>8.03</td>\n      <td>6.66</td>\n      <td>11.76</td>\n      <td>11.04</td>\n      <td>Africa</td>\n    </tr>\n    <tr>\n      <th>4</th>\n      <td>Brazil</td>\n      <td>2015</td>\n      <td>2434.27</td>\n      <td>2656.36</td>\n      <td>49.27</td>\n      <td>12.44</td>\n      <td>25.06</td>\n      <td>9.34</td>\n      <td>3.63</td>\n      <td>15.09</td>\n      <td>South America</td>\n    </tr>\n    <tr>\n      <th>5</th>\n      <td>Australia</td>\n      <td>2015</td>\n      <td>1781.66</td>\n      <td>4575.30</td>\n      <td>39.23</td>\n      <td>6.16</td>\n      <td>0.44</td>\n      <td>9.65</td>\n      <td>12.05</td>\n      <td>15.23</td>\n      <td>Oceania</td>\n    </tr>\n    <tr>\n      <th>6</th>\n      <td>China</td>\n      <td>2020</td>\n      <td>5514.82</td>\n      <td>6551.39</td>\n      <td>44.67</td>\n      <td>15.64</td>\n      <td>11.37</td>\n      <td>8.75</td>\n      <td>5.08</td>\n      <td>9.73</td>\n      <td>Asia</td>\n    </tr>\n    <tr>\n      <th>7</th>\n      <td>Japan</td>\n      <td>2006</td>\n      <td>7470.32</td>\n      <td>1076.56</td>\n      <td>23.98</td>\n      <td>27.86</td>\n      <td>10.12</td>\n      <td>12.73</td>\n      <td>10.81</td>\n      <td>7.00</td>\n      <td>Asia</td>\n    </tr>\n    <tr>\n      <th>8</th>\n      <td>Australia</td>\n      <td>2003</td>\n      <td>4675.72</td>\n      <td>6585.71</td>\n      <td>45.86</td>\n      <td>37.84</td>\n      <td>0.58</td>\n      <td>13.03</td>\n      <td>9.36</td>\n      <td>14.49</td>\n      <td>Oceania</td>\n    </tr>\n    <tr>\n      <th>9</th>\n      <td>Russia</td>\n      <td>2000</td>\n      <td>4787.10</td>\n      <td>4940.05</td>\n      <td>47.68</td>\n      <td>35.49</td>\n      <td>3.73</td>\n      <td>10.35</td>\n      <td>14.08</td>\n      <td>6.92</td>\n      <td>Europe</td>\n    </tr>\n  </tbody>\n</table>\n</div>",
                        "text/plain": "        Country  Year  Average_Monthly_Income  Cost_of_Living  \\\n0     Australia  2013                 3483.92         1106.07   \n1         India  2019                 7771.03         5422.78   \n2        Russia  2004                 6991.30         3972.36   \n3  South Africa  2011                 6628.04         6755.75   \n4        Brazil  2015                 2434.27         2656.36   \n5     Australia  2015                 1781.66         4575.30   \n6         China  2020                 5514.82         6551.39   \n7         Japan  2006                 7470.32         1076.56   \n8     Australia  2003                 4675.72         6585.71   \n9        Russia  2000                 4787.10         4940.05   \n\n   Housing_Cost_Percentage  Tax_Rate  Savings_Percentage  \\\n0                    32.09     27.50                1.74   \n1                    25.21     29.30                3.35   \n2                    40.85     22.94               15.48   \n3                    30.38     15.69                8.03   \n4                    49.27     12.44               25.06   \n5                    39.23      6.16                0.44   \n6                    44.67     15.64               11.37   \n7                    23.98     27.86               10.12   \n8                    45.86     37.84                0.58   \n9                    47.68     35.49                3.73   \n\n   Healthcare_Cost_Percentage  Education_Cost_Percentage  \\\n0                       18.23                       6.94   \n1                       17.21                      12.42   \n2                       15.28                       7.10   \n3                        6.66                      11.76   \n4                        9.34                       3.63   \n5                        9.65                      12.05   \n6                        8.75                       5.08   \n7                       12.73                      10.81   \n8                       13.03                       9.36   \n9                       10.35                      14.08   \n\n   Transportation_Cost_Percentage         Region  \n0                           17.19        Oceania  \n1                            9.90           Asia  \n2                            9.59         Europe  \n3                           11.04         Africa  \n4                           15.09  South America  \n5                           15.23        Oceania  \n6                            9.73           Asia  \n7                            7.00           Asia  \n8                           14.49        Oceania  \n9                            6.92         Europe  "
                    },
                    "execution_count": 1,
                    "metadata": {},
                    "output_type": "execute_result"
                }
            ],
            "source": "# The code was removed by Watson Studio for sharing."
        }
    ],
    "metadata": {
        "kernelspec": {
            "display_name": "Python 3.11",
            "language": "python",
            "name": "python3"
        },
        "language_info": {
            "codemirror_mode": {
                "name": "ipython",
                "version": 3
            },
            "file_extension": ".py",
            "mimetype": "text/x-python",
            "name": "python",
            "nbconvert_exporter": "python",
            "pygments_lexer": "ipython3",
            "version": "3.11.9"
        }
    },
    "nbformat": 4,
    "nbformat_minor": 4
}